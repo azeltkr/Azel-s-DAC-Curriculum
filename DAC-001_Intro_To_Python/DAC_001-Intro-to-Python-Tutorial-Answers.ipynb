{
 "cells": [
  {
   "cell_type": "code",
   "execution_count": 1,
   "metadata": {},
   "outputs": [
    {
     "name": "stdout",
     "output_type": "stream",
     "text": [
      "['apple', 'orange', 'banana']\n"
     ]
    }
   ],
   "source": [
    "# Question 1(a) \n",
    "# Create a list named fruits with the items \"apple\", \"orange\", and \"banana\".\n",
    "fruits = [\"apple\", \"orange\", \"banana\"]\n",
    "print(fruits)"
   ]
  },
  {
   "cell_type": "code",
   "execution_count": 3,
   "metadata": {},
   "outputs": [
    {
     "name": "stdout",
     "output_type": "stream",
     "text": [
      "['apple', 'orange', 'banana', 'tomato']\n"
     ]
    }
   ],
   "source": [
    "# Question 1(b)\n",
    "# Add \"tomato\" to the end of the fruits list.\n",
    "fruits.append(\"tomato\")\n",
    "print(fruits)"
   ]
  },
  {
   "cell_type": "code",
   "execution_count": 4,
   "metadata": {},
   "outputs": [
    {
     "name": "stdout",
     "output_type": "stream",
     "text": [
      "['orange', 'banana', 'tomato']\n"
     ]
    }
   ],
   "source": [
    "# Question 1(c)\n",
    "# Remove \"apple\" from the fruits list.\n",
    "del fruits[0]\n",
    "print(fruits)"
   ]
  },
  {
   "cell_type": "code",
   "execution_count": 8,
   "metadata": {},
   "outputs": [
    {
     "name": "stdout",
     "output_type": "stream",
     "text": [
      "('physics', 'chemistry', 'english', 'math', 'biology')\n"
     ]
    }
   ],
   "source": [
    "# Question 2(a)\n",
    "# Create a tuple named subjects with the following elements: \"physics\", \"chemistry\", \"english\", \"math\", and \"biology\".\n",
    "subjects = (\"physics\", \"chemistry\", \"english\", \"math\", \"biology\")\n",
    "print(subjects)"
   ]
  },
  {
   "cell_type": "code",
   "execution_count": 10,
   "metadata": {},
   "outputs": [
    {
     "ename": "AttributeError",
     "evalue": "'tuple' object has no attribute 'append'",
     "output_type": "error",
     "traceback": [
      "\u001b[0;31m---------------------------------------------------------------------------\u001b[0m",
      "\u001b[0;31mAttributeError\u001b[0m                            Traceback (most recent call last)",
      "Cell \u001b[0;32mIn[10], line 3\u001b[0m\n\u001b[1;32m      1\u001b[0m \u001b[38;5;66;03m# Question 2(b)\u001b[39;00m\n\u001b[1;32m      2\u001b[0m \u001b[38;5;66;03m# attempt to append \"literature\" to the tuple and observe the result. \u001b[39;00m\n\u001b[0;32m----> 3\u001b[0m \u001b[43msubjects\u001b[49m\u001b[38;5;241;43m.\u001b[39;49m\u001b[43mappend\u001b[49m(\u001b[38;5;124m\"\u001b[39m\u001b[38;5;124mliterature\u001b[39m\u001b[38;5;124m\"\u001b[39m)\n",
      "\u001b[0;31mAttributeError\u001b[0m: 'tuple' object has no attribute 'append'"
     ]
    }
   ],
   "source": [
    "# Question 2(b)\n",
    "# attempt to append \"literature\" to the tuple and observe the result. \n",
    "subjects.append(\"literature\")"
   ]
  },
  {
   "cell_type": "code",
   "execution_count": 15,
   "metadata": {},
   "outputs": [
    {
     "name": "stdout",
     "output_type": "stream",
     "text": [
      "['physics', 'chemistry', 'english', 'math', 'biology']\n",
      "['physics', 'chemistry', 'english', 'math', 'biology', 'literature']\n",
      "('physics', 'chemistry', 'english', 'math', 'biology', 'literature')\n"
     ]
    },
    {
     "data": {
      "text/plain": [
       "tuple"
      ]
     },
     "execution_count": 15,
     "metadata": {},
     "output_type": "execute_result"
    }
   ],
   "source": [
    "# Suggest an alternative way to add an element to a tuple.\n",
    "subjectslist = list(subjects) # change the tuple 'subjects' into a list\n",
    "print(subjectslist) # check list contents\n",
    "type(subjectslist) # check that it is a list\n",
    "\n",
    "subjectslist.append(\"literature\") # now we append the list\n",
    "print(subjectslist) # check the updated list\n",
    "\n",
    "new_subjects = tuple(subjectslist) # convert updated list back into a new tuple\n",
    "print(new_subjects)\n",
    "type(new_subjects) # check that it is a tuple"
   ]
  },
  {
   "cell_type": "code",
   "execution_count": 17,
   "metadata": {},
   "outputs": [
    {
     "name": "stdout",
     "output_type": "stream",
     "text": [
      "5\n",
      "6\n"
     ]
    }
   ],
   "source": [
    "# Question 2(c)\n",
    "# Count the number of elements in the subjects tuple.\n",
    "length_of_subjects = len(subjects)\n",
    "print(length_of_subjects) # output length of original 'subjects'\n",
    "\n",
    "length_of_new_subjects = len(new_subjects)\n",
    "print(length_of_new_subjects) # output length of updated 'subjects"
   ]
  },
  {
   "cell_type": "code",
   "execution_count": 18,
   "metadata": {},
   "outputs": [
    {
     "name": "stdout",
     "output_type": "stream",
     "text": [
      "[10, 6, 7, 8, 9, 3]\n"
     ]
    }
   ],
   "source": [
    "# Question 3(a)\n",
    "# Create a list named students_id with the values [10, 6, 7, 8, 9, 3].\n",
    "students_id = [10, 6, 7, 8, 9, 3]\n",
    "print(students_id) # check list output"
   ]
  },
  {
   "cell_type": "code",
   "execution_count": 25,
   "metadata": {},
   "outputs": [
    {
     "name": "stdout",
     "output_type": "stream",
     "text": [
      "[10, 9, 8, 7, 6, 3]\n"
     ]
    }
   ],
   "source": [
    "# Question 3(b)\n",
    "# Sort the list in descending order and reinitialize it as sorted_students_id.\n",
    "sorted_students_id = sorted(students_id, reverse=True) # sorts list in ascending order then reverses it \n",
    "print(sorted_students_id) # output new list in descending order\n"
   ]
  },
  {
   "cell_type": "code",
   "execution_count": 27,
   "metadata": {},
   "outputs": [
    {
     "name": "stdout",
     "output_type": "stream",
     "text": [
      "[]\n"
     ]
    }
   ],
   "source": [
    "# Question 3(c)\n",
    "# Remove all elements from the sorted_students_id list.\n",
    "sorted_students_id.clear() # clears all elements in the list\n",
    "print(sorted_students_id) # output updated list"
   ]
  },
  {
   "cell_type": "code",
   "execution_count": 28,
   "metadata": {},
   "outputs": [
    {
     "name": "stdout",
     "output_type": "stream",
     "text": [
      "[15, 12, 9, 6, 3]\n"
     ]
    }
   ],
   "source": [
    "# Question 4\n",
    "# Generate a list of numbers starting from 15 and decreasing by 3 each step, until the number is positive (not inclusive of zero). Store it in a variable named desc_list.\n",
    "desc_list = list(range(15, 1, -3)) # Variable created to store a list ranging from 15 to 1, decreasing by 3 each step\n",
    "print(desc_list) # output the list"
   ]
  },
  {
   "cell_type": "code",
   "execution_count": 39,
   "metadata": {},
   "outputs": [
    {
     "name": "stdout",
     "output_type": "stream",
     "text": [
      "[2, 4, 6, 8, 10, 12, 14, 16, 18, 20, 22, 24, 26, 28]\n"
     ]
    }
   ],
   "source": [
    "# Question 5\n",
    "# Generate a list of numbers starting from 2, increasing by 2 each step, until the list contains 14 elements. Store it in a variable named asc_list.\n",
    "asc_list = list(range(2, 2 * 14 + 1, 2)) # range stops before 29, as it is upper boundary \n",
    "print(asc_list) # output the list"
   ]
  },
  {
   "cell_type": "code",
   "execution_count": 49,
   "metadata": {},
   "outputs": [
    {
     "name": "stdout",
     "output_type": "stream",
     "text": [
      "[2, 3, 4, 6, 6, 8, 9, 10, 12, 12, 14, 15, 16, 18, 20, 22, 24, 26, 28]\n"
     ]
    }
   ],
   "source": [
    "# Question 6\n",
    "# Combine the lists generated in Questions 4 and 5 into a single list named combined_list.\n",
    "combined_list = desc_list + asc_list #add the two lists together\n",
    "combined_list.sort() # sort the combined list in ascending order\n",
    "print(combined_list) # output the list"
   ]
  },
  {
   "cell_type": "code",
   "execution_count": 50,
   "metadata": {},
   "outputs": [
    {
     "name": "stdout",
     "output_type": "stream",
     "text": [
      "[2, 4, 6, 6, 8, 10, 12, 12, 14, 16, 18, 20, 22, 24, 26, 28]\n",
      "[3, 9, 15]\n"
     ]
    }
   ],
   "source": [
    "# Separate the even and odd numbers from combined_list into two separate lists: even_numbers and odd_numbers.\n",
    "even_numbers = [num for num in combined_list if num % 2 == 0] # if even\n",
    "even_numbers.sort() # sort the even list in ascending order\n",
    "print(even_numbers) # output the list\n",
    "\n",
    "odd_numbers = [num for num in combined_list if num % 2 != 0] # if odd\n",
    "odd_numbers.sort() # sort odd list in ascending order\n",
    "print(odd_numbers) # output the list"
   ]
  },
  {
   "cell_type": "code",
   "execution_count": 61,
   "metadata": {},
   "outputs": [
    {
     "name": "stdout",
     "output_type": "stream",
     "text": [
      "This circle has an area of 28.27 and a circumference of 18.85\n"
     ]
    }
   ],
   "source": [
    "# Question 7\n",
    "# Create a function circle_properties(radius) that takes in the radius of a circle and returns both the area and circumference.\n",
    "import math # import math library\n",
    "def circle_properties(radius):\n",
    "    circle_area = math.pi * radius ** 2 # find area of circle\n",
    "    circle_circum = 2 * math.pi * radius # find circumference of circle\n",
    "    return circle_area, circle_circum # return the values\n",
    "\n",
    "properties = circle_properties(3) # test using radius = 3\n",
    "print(\"This circle has an area of {0:.2f} and a circumference of {1:.2f}\" .format(properties[0], properties[1])) # output in 2 decimal places\n"
   ]
  },
  {
   "cell_type": "code",
   "execution_count": 70,
   "metadata": {},
   "outputs": [
    {
     "name": "stdout",
     "output_type": "stream",
     "text": [
      "idk what to eat sia *sigh*\n",
      "let's go eat burger!\n"
     ]
    }
   ],
   "source": [
    "# Question 8\n",
    "# Define a function that performs a task you find interesting. Demonstrate how this function works.\n",
    "# function to decide what food i should eat lol hahahahah (real life problem)\n",
    "import random # Importing the random module to use for generating random responses\n",
    "\n",
    "def what_to_eat_sia():\n",
    "    # list of possible foods mmm yum\n",
    "    food = [\"cai peng\", \"ban mian\", \"pasta\", \"mala hotpot\", \"mala soup\",\n",
    "             \"yong tau foo\", \"prata\", \"burger\", \"tomato soup\", \"fried chicken\",\n",
    "             \"korean food\", \"japanese food\", \"instant noodles\"]\n",
    "    \n",
    "    # roll the food dice\n",
    "    return random.choice(food)\n",
    "\n",
    "print(\"idk what to eat sia *sigh*\")\n",
    "print(\"let's go eat {0}!\" .format(what_to_eat_sia()))"
   ]
  },
  {
   "cell_type": "code",
   "execution_count": 71,
   "metadata": {},
   "outputs": [
    {
     "name": "stdout",
     "output_type": "stream",
     "text": [
      "{'Alice': 85, 'Bob': 90, 'Charlie': 78}\n"
     ]
    }
   ],
   "source": [
    "# Question 9(a)\n",
    "# Create a dictionary named student_grades with the following keys and values: \"Alice\": 85, \"Bob\": 90, and \"Charlie\": 78.\n",
    "student_grades = {\n",
    "    \"Alice\": 85,\n",
    "    \"Bob\": 90,\n",
    "    \"Charlie\": 78\n",
    "}\n",
    "\n",
    "print(student_grades) # print dictionary info"
   ]
  },
  {
   "cell_type": "code",
   "execution_count": 72,
   "metadata": {},
   "outputs": [
    {
     "name": "stdout",
     "output_type": "stream",
     "text": [
      "{'Alice': 85, 'Bob': 90, 'Charlie': 78, 'David': 92}\n"
     ]
    }
   ],
   "source": [
    "# Question 9(b)\n",
    "# Add a new student, \"David\", with a grade of 92 to the student_grades dictionary.\n",
    "student_grades[\"David\"] = 92\n",
    "print(student_grades) # print output"
   ]
  },
  {
   "cell_type": "code",
   "execution_count": 73,
   "metadata": {},
   "outputs": [
    {
     "name": "stdout",
     "output_type": "stream",
     "text": [
      "{'Alice': 88, 'Bob': 90, 'Charlie': 78, 'David': 92}\n"
     ]
    }
   ],
   "source": [
    "# Question 9(c)\n",
    "# Update \"Alice\"'s grade to 88.\n",
    "student_grades[\"Alice\"] = 88 \n",
    "print(student_grades) # print output"
   ]
  },
  {
   "cell_type": "code",
   "execution_count": 75,
   "metadata": {},
   "outputs": [
    {
     "name": "stdout",
     "output_type": "stream",
     "text": [
      "['apple', 'banana', 'apple', 'orange', 'banana', 'apple']\n",
      "{'apple': 3, 'banana': 2, 'orange': 1}\n"
     ]
    }
   ],
   "source": [
    "# Question 10\n",
    "# Given the list of fruits [\"apple\", \"banana\", \"apple\", \"orange\", \"banana\", \"apple\"], create a dictionary named fruit_count that counts the number of times each fruit appears in the list.\n",
    "fruits = [\"apple\", \"banana\", \"apple\", \"orange\", \"banana\", \"apple\"]\n",
    "print(fruits)\n",
    "\n",
    "fruit_count = {}\n",
    "\n",
    "for fruit in fruits: # iterate every element in the list\n",
    "    if fruit in fruit_count: # if it runs through the list and finds the fruit\n",
    "        fruit_count[fruit] += 1 # increase the count\n",
    "    else:\n",
    "        fruit_count[fruit] = 1 # initialise count at 1\n",
    "\n",
    "print(fruit_count) # print outpur"
   ]
  },
  {
   "cell_type": "code",
   "execution_count": null,
   "metadata": {},
   "outputs": [],
   "source": []
  }
 ],
 "metadata": {
  "kernelspec": {
   "display_name": "Python 3",
   "language": "python",
   "name": "python3"
  },
  "language_info": {
   "codemirror_mode": {
    "name": "ipython",
    "version": 3
   },
   "file_extension": ".py",
   "mimetype": "text/x-python",
   "name": "python",
   "nbconvert_exporter": "python",
   "pygments_lexer": "ipython3",
   "version": "3.9.13"
  }
 },
 "nbformat": 4,
 "nbformat_minor": 2
}
