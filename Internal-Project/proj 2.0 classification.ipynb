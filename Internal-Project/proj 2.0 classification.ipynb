{
 "cells": [
  {
   "cell_type": "markdown",
   "metadata": {},
   "source": [
    "### **Problem Statement**\n",
    "\n",
    "##### - Predicting each score (Regression)\n",
    "\n"
   ]
  },
  {
   "cell_type": "markdown",
   "metadata": {},
   "source": [
    "**Import Libraries**"
   ]
  },
  {
   "cell_type": "code",
   "execution_count": 3,
   "metadata": {},
   "outputs": [],
   "source": [
    "import pandas as pd\n",
    "from sklearn.linear_model import LogisticRegression\n",
    "from sklearn.model_selection import train_test_split\n",
    "from sklearn.preprocessing import LabelEncoder\n",
    "from sklearn.metrics import classification_report, confusion_matrix\n",
    "import seaborn as sns\n",
    "import matplotlib.pyplot as plt"
   ]
  },
  {
   "cell_type": "code",
   "execution_count": 4,
   "metadata": {},
   "outputs": [],
   "source": [
    "# # mac\n",
    "# data = pd.read_csv('/Users/azel/Documents/GitHub/Azel-s-DAC-Curriculum/Internal-Project/Students_Performance.csv') \n",
    "\n",
    "#windows\n",
    "data = pd.read_csv('C:/Users/azelt/OneDrive/Documents/GitHub/Azel-s-DAC-Curriculum/Internal-Project/Students_Performance.csv') "
   ]
  },
  {
   "cell_type": "markdown",
   "metadata": {},
   "source": [
    "### **Classification**"
   ]
  },
  {
   "cell_type": "code",
   "execution_count": 6,
   "metadata": {},
   "outputs": [
    {
     "name": "stdout",
     "output_type": "stream",
     "text": [
      "Classification Report:\n",
      "              precision    recall  f1-score   support\n",
      "\n",
      "        high       0.20      0.03      0.06        29\n",
      "         low       0.48      0.34      0.40        62\n",
      "      medium       0.56      0.78      0.65       109\n",
      "\n",
      "    accuracy                           0.54       200\n",
      "   macro avg       0.41      0.38      0.37       200\n",
      "weighted avg       0.48      0.54      0.49       200\n",
      "\n"
     ]
    },
    {
     "name": "stderr",
     "output_type": "stream",
     "text": [
      "c:\\Users\\azelt\\OneDrive\\Documents\\GitHub\\Azel-s-DAC-Curriculum\\.venv\\Lib\\site-packages\\sklearn\\linear_model\\_logistic.py:1247: FutureWarning: 'multi_class' was deprecated in version 1.5 and will be removed in 1.7. From then on, it will always use 'multinomial'. Leave it to its default value to avoid this warning.\n",
      "  warnings.warn(\n"
     ]
    },
    {
     "data": {
      "image/png": "[encoded data removed]",
      "text/plain": [
       "<Figure size 640x480 with 2 Axes>"
      ]
     },
     "metadata": {},
     "output_type": "display_data"
    }
   ],
   "source": [
    "# Step 1: Define categories for average score\n",
    "def categorize_performance(score):\n",
    "    if score < 60:\n",
    "        return 'low'\n",
    "    elif 60 <= score <= 80:\n",
    "        return 'medium'\n",
    "    else:\n",
    "        return 'high'\n",
    "\n",
    "data['average score'] = data[['math score', 'reading score', 'writing score']].mean(axis=1)\n",
    "data['performance_category'] = data['average score'].apply(categorize_performance)\n",
    "\n",
    "# Step 2: Encode the target variable (low, medium, high)\n",
    "label_encoder = LabelEncoder()\n",
    "data['performance_label'] = label_encoder.fit_transform(data['performance_category'])\n",
    "\n",
    "# Step 3: Define features and target\n",
    "X = data.drop(columns=['math score', 'reading score', 'writing score', 'average score', \n",
    "                       'performance_category', 'performance_label'])\n",
    "y = data['performance_label']\n",
    "\n",
    "# Encode categorical variables\n",
    "X_encoded = pd.get_dummies(X, drop_first=True)\n",
    "\n",
    "# Step 4: Train-test split\n",
    "X_train, X_test, y_train, y_test = train_test_split(X_encoded, y, test_size=0.2, random_state=42)\n",
    "\n",
    "# Step 5: Train logistic regression model\n",
    "model = LogisticRegression(multi_class='multinomial', solver='lbfgs', max_iter=1000)\n",
    "model.fit(X_train, y_train)\n",
    "\n",
    "# Step 6: Evaluate the model\n",
    "y_pred = model.predict(X_test)\n",
    "print(\"Classification Report:\")\n",
    "print(classification_report(y_test, y_pred, target_names=label_encoder.classes_))\n",
    "\n",
    "# Confusion Matrix\n",
    "conf_matrix = confusion_matrix(y_test, y_pred)\n",
    "sns.heatmap(conf_matrix, annot=True, fmt='d', cmap='Blues', xticklabels=label_encoder.classes_, yticklabels=label_encoder.classes_)\n",
    "plt.xlabel('Predicted')\n",
    "plt.ylabel('Actual')\n",
    "plt.title('Confusion Matrix')\n",
    "plt.show()"
   ]
  },
  {
   "cell_type": "markdown",
   "metadata": {},
   "source": [
    "=================================================================================================================================================="
   ]
  },
  {
   "cell_type": "code",
   "execution_count": 14,
   "metadata": {},
   "outputs": [
    {
     "name": "stdout",
     "output_type": "stream",
     "text": [
      "X_train_np shape: (800, 12)\n",
      "y_train_np shape: (800,)\n",
      "SMOTE applied successfully!\n"
     ]
    }
   ],
   "source": [
    "from imblearn.over_sampling import SMOTE\n",
    "import pandas as pd\n",
    "\n",
    "# Ensure data is numeric\n",
    "X_train = X_train.astype(float)  # Convert features to float\n",
    "y_train = y_train.astype(int)    # Ensure target is integer\n",
    "\n",
    "# Convert to numpy arrays\n",
    "X_train_np = X_train.to_numpy()\n",
    "y_train_np = y_train.to_numpy()\n",
    "\n",
    "# Debugging: Inspect shapes and types\n",
    "print(\"X_train_np shape:\", X_train_np.shape)\n",
    "print(\"y_train_np shape:\", y_train_np.shape)\n",
    "\n",
    "# Apply SMOTE\n",
    "smote = SMOTE(random_state=42)\n",
    "X_resampled, y_resampled = smote.fit_resample(X_train_np, y_train_np)\n",
    "print(\"SMOTE applied successfully!\")\n"
   ]
  },
  {
   "cell_type": "code",
   "execution_count": 15,
   "metadata": {},
   "outputs": [
    {
     "name": "stdout",
     "output_type": "stream",
     "text": [
      "Classification Report for Oversampled Data:\n",
      "              precision    recall  f1-score   support\n",
      "\n",
      "        high       0.30      0.83      0.44        29\n",
      "         low       0.51      0.68      0.58        62\n",
      "      medium       0.64      0.23      0.34       109\n",
      "\n",
      "    accuracy                           0.46       200\n",
      "   macro avg       0.49      0.58      0.46       200\n",
      "weighted avg       0.55      0.46      0.43       200\n",
      "\n"
     ]
    },
    {
     "name": "stderr",
     "output_type": "stream",
     "text": [
      "c:\\Users\\azelt\\OneDrive\\Documents\\GitHub\\Azel-s-DAC-Curriculum\\.venv\\Lib\\site-packages\\sklearn\\linear_model\\_logistic.py:1247: FutureWarning: 'multi_class' was deprecated in version 1.5 and will be removed in 1.7. From then on, it will always use 'multinomial'. Leave it to its default value to avoid this warning.\n",
      "  warnings.warn(\n",
      "c:\\Users\\azelt\\OneDrive\\Documents\\GitHub\\Azel-s-DAC-Curriculum\\.venv\\Lib\\site-packages\\sklearn\\base.py:486: UserWarning: X has feature names, but LogisticRegression was fitted without feature names\n",
      "  warnings.warn(\n"
     ]
    }
   ],
   "source": [
    "# Train Logistic Regression on oversampled data\n",
    "oversampled_model = LogisticRegression(multi_class='multinomial', solver='lbfgs', max_iter=1000)\n",
    "oversampled_model.fit(X_resampled, y_resampled)\n",
    "\n",
    "# Make predictions and evaluate\n",
    "y_pred_oversampled = oversampled_model.predict(X_test)\n",
    "oversampled_report = classification_report(y_test, y_pred_oversampled, target_names=label_encoder.classes_)\n",
    "\n",
    "# Print the classification report\n",
    "print(\"Classification Report for Oversampled Data:\")\n",
    "print(oversampled_report)\n"
   ]
  }
 ],
 "metadata": {
  "kernelspec": {
   "display_name": ".venv",
   "language": "python",
   "name": "python3"
  },
  "language_info": {
   "codemirror_mode": {
    "name": "ipython",
    "version": 3
   },
   "file_extension": ".py",
   "mimetype": "text/x-python",
   "name": "python",
   "nbconvert_exporter": "python",
   "pygments_lexer": "ipython3",
   "version": "3.13.0"
  }
 },
 "nbformat": 4,
 "nbformat_minor": 2
}
